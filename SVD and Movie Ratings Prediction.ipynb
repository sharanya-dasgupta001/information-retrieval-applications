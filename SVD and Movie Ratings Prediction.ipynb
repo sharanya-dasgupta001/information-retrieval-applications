{
 "cells": [
  {
   "cell_type": "markdown",
   "metadata": {},
   "source": [
    "# Ratings prediction using SVD\n",
    "\n",
    "We first try to gain some intuition on SVD using a small toy dataset. Let the following be a user-movie rating dataset where every user has rated every movie. "
   ]
  },
  {
   "cell_type": "code",
   "execution_count": 4,
   "metadata": {},
   "outputs": [
    {
     "data": {
      "text/html": [
       "<div>\n",
       "<style scoped>\n",
       "    .dataframe tbody tr th:only-of-type {\n",
       "        vertical-align: middle;\n",
       "    }\n",
       "\n",
       "    .dataframe tbody tr th {\n",
       "        vertical-align: top;\n",
       "    }\n",
       "\n",
       "    .dataframe thead th {\n",
       "        text-align: right;\n",
       "    }\n",
       "</style>\n",
       "<table border=\"1\" class=\"dataframe\">\n",
       "  <thead>\n",
       "    <tr style=\"text-align: right;\">\n",
       "      <th></th>\n",
       "      <th>horror1</th>\n",
       "      <th>horror2</th>\n",
       "      <th>drama1</th>\n",
       "      <th>drama2</th>\n",
       "      <th>art1</th>\n",
       "      <th>art2</th>\n",
       "    </tr>\n",
       "  </thead>\n",
       "  <tbody>\n",
       "    <tr>\n",
       "      <th>u0</th>\n",
       "      <td>1</td>\n",
       "      <td>2</td>\n",
       "      <td>8</td>\n",
       "      <td>9</td>\n",
       "      <td>3</td>\n",
       "      <td>3</td>\n",
       "    </tr>\n",
       "    <tr>\n",
       "      <th>u1</th>\n",
       "      <td>2</td>\n",
       "      <td>1</td>\n",
       "      <td>9</td>\n",
       "      <td>8</td>\n",
       "      <td>4</td>\n",
       "      <td>2</td>\n",
       "    </tr>\n",
       "    <tr>\n",
       "      <th>u2</th>\n",
       "      <td>2</td>\n",
       "      <td>2</td>\n",
       "      <td>6</td>\n",
       "      <td>8</td>\n",
       "      <td>2</td>\n",
       "      <td>3</td>\n",
       "    </tr>\n",
       "    <tr>\n",
       "      <th>u3</th>\n",
       "      <td>9</td>\n",
       "      <td>7</td>\n",
       "      <td>2</td>\n",
       "      <td>3</td>\n",
       "      <td>1</td>\n",
       "      <td>1</td>\n",
       "    </tr>\n",
       "    <tr>\n",
       "      <th>u4</th>\n",
       "      <td>1</td>\n",
       "      <td>1</td>\n",
       "      <td>1</td>\n",
       "      <td>2</td>\n",
       "      <td>8</td>\n",
       "      <td>7</td>\n",
       "    </tr>\n",
       "    <tr>\n",
       "      <th>u5</th>\n",
       "      <td>2</td>\n",
       "      <td>2</td>\n",
       "      <td>3</td>\n",
       "      <td>2</td>\n",
       "      <td>8</td>\n",
       "      <td>8</td>\n",
       "    </tr>\n",
       "    <tr>\n",
       "      <th>u6</th>\n",
       "      <td>7</td>\n",
       "      <td>9</td>\n",
       "      <td>2</td>\n",
       "      <td>2</td>\n",
       "      <td>2</td>\n",
       "      <td>3</td>\n",
       "    </tr>\n",
       "    <tr>\n",
       "      <th>u7</th>\n",
       "      <td>9</td>\n",
       "      <td>8</td>\n",
       "      <td>2</td>\n",
       "      <td>3</td>\n",
       "      <td>1</td>\n",
       "      <td>3</td>\n",
       "    </tr>\n",
       "    <tr>\n",
       "      <th>u8</th>\n",
       "      <td>7</td>\n",
       "      <td>1</td>\n",
       "      <td>1</td>\n",
       "      <td>9</td>\n",
       "      <td>2</td>\n",
       "      <td>8</td>\n",
       "    </tr>\n",
       "  </tbody>\n",
       "</table>\n",
       "</div>"
      ],
      "text/plain": [
       "    horror1  horror2  drama1  drama2  art1  art2\n",
       "u0        1        2       8       9     3     3\n",
       "u1        2        1       9       8     4     2\n",
       "u2        2        2       6       8     2     3\n",
       "u3        9        7       2       3     1     1\n",
       "u4        1        1       1       2     8     7\n",
       "u5        2        2       3       2     8     8\n",
       "u6        7        9       2       2     2     3\n",
       "u7        9        8       2       3     1     3\n",
       "u8        7        1       1       9     2     8"
      ]
     },
     "execution_count": 4,
     "metadata": {},
     "output_type": "execute_result"
    }
   ],
   "source": [
    "import numpy as np\n",
    "import pandas as pd\n",
    "\n",
    "np.set_printoptions(formatter={'float': lambda x: \"{0:0.2f}\".format(x)})\n",
    "\n",
    "#df = pd.DataFrame([[1,2,8,9,3,3],[2,1,9,8,4,2],[2,2,6,8,2,3],\n",
    "#                   [9,7,2,3,1,1],[1,1,1,2,8,7],[2,2,3,2,8,8],\n",
    "#                   [7,9,2,2,2,3],[9,8,2,3,1,3]], \n",
    "#                  columns=[\"horror1\",\"horror2\",\"drama1\",\"drama2\",\"art1\",\"art2\"], \n",
    "#                  index=[\"u0\",\"u1\",\"u2\",\"u3\",\"u4\",\"u5\",\"u6\",\"u7\"])\n",
    "\n",
    "df = pd.DataFrame([[1,2,8,9,3,3],[2,1,9,8,4,2],[2,2,6,8,2,3],\n",
    "                   [9,7,2,3,1,1],[1,1,1,2,8,7],[2,2,3,2,8,8],\n",
    "                   [7,9,2,2,2,3],[9,8,2,3,1,3],[7,1,1,9,2,8]], \n",
    "                  columns=[\"horror1\",\"horror2\",\"drama1\",\"drama2\",\"art1\",\"art2\"], \n",
    "                  index=[\"u0\",\"u1\",\"u2\",\"u3\",\"u4\",\"u5\",\"u6\",\"u7\",\"u8\"])\n",
    "\n",
    "\n",
    "df"
   ]
  },
  {
   "cell_type": "markdown",
   "metadata": {},
   "source": [
    "Let us extract the data in the form of a matrix and subtract the mean from each row. "
   ]
  },
  {
   "cell_type": "code",
   "execution_count": 5,
   "metadata": {},
   "outputs": [
    {
     "name": "stdout",
     "output_type": "stream",
     "text": [
      "[[-3.33 -2.33 3.67 4.67 -1.33 -1.33]\n",
      " [-2.33 -3.33 4.67 3.67 -0.33 -2.33]\n",
      " [-1.83 -1.83 2.17 4.17 -1.83 -0.83]\n",
      " [5.17 3.17 -1.83 -0.83 -2.83 -2.83]\n",
      " [-2.33 -2.33 -2.33 -1.33 4.67 3.67]\n",
      " [-2.17 -2.17 -1.17 -2.17 3.83 3.83]\n",
      " [2.83 4.83 -2.17 -2.17 -2.17 -1.17]\n",
      " [4.67 3.67 -2.33 -1.33 -3.33 -1.33]\n",
      " [2.33 -3.67 -3.67 4.33 -2.67 3.33]]\n"
     ]
    }
   ],
   "source": [
    "A = df.values\n",
    "means = np.mean(A,axis=1).reshape((A.shape[0],1))\n",
    "#print(means)\n",
    "A = A - means\n",
    "print(A)"
   ]
  },
  {
   "cell_type": "markdown",
   "metadata": {},
   "source": [
    "Let us also examine on average what is the rating for each movie."
   ]
  },
  {
   "cell_type": "code",
   "execution_count": 6,
   "metadata": {},
   "outputs": [
    {
     "name": "stdout",
     "output_type": "stream",
     "text": [
      "[0.33 -0.44 -0.33 1.00 -0.67 0.11]\n"
     ]
    }
   ],
   "source": [
    "print(np.mean(A,axis=0))"
   ]
  },
  {
   "cell_type": "markdown",
   "metadata": {},
   "source": [
    "## Compute SVD"
   ]
  },
  {
   "cell_type": "code",
   "execution_count": 7,
   "metadata": {},
   "outputs": [
    {
     "name": "stdout",
     "output_type": "stream",
     "text": [
      "U = \n",
      " [[-0.36 -0.40 -0.01 0.37 -0.18 0.70]\n",
      " [-0.37 -0.39 -0.13 -0.50 0.04 -0.21]\n",
      " [-0.24 -0.34 0.13 0.32 -0.15 -0.57]\n",
      " [0.45 -0.21 0.07 -0.49 -0.41 0.12]\n",
      " [-0.21 0.52 0.11 -0.03 -0.71 0.02]\n",
      " [-0.19 0.49 0.03 -0.03 0.43 0.07]\n",
      " [0.43 -0.03 -0.08 0.52 -0.15 -0.24]\n",
      " [0.46 -0.13 0.13 0.02 0.22 0.24]\n",
      " [-0.05 -0.06 0.96 -0.02 0.08 -0.01]] \n",
      "\n",
      "S =  [15.53 12.20 8.58 2.54 1.27 0.00] \n",
      "\n",
      "VT = \n",
      " [[0.58 0.56 -0.35 -0.35 -0.28 -0.16]\n",
      " [-0.11 -0.04 -0.40 -0.52 0.56 0.50]\n",
      " [0.32 -0.39 -0.52 0.45 -0.30 0.43]\n",
      " [-0.61 0.57 -0.16 0.18 -0.34 0.36]\n",
      " [0.12 -0.19 0.51 -0.45 -0.49 0.50]\n",
      " [0.41 0.41 0.41 0.41 0.41 0.41]] \n",
      "\n"
     ]
    }
   ],
   "source": [
    "U, S, VT = np.linalg.svd(A, full_matrices=False)\n",
    "\n",
    "print(\"U = \\n\", U, \"\\n\")\n",
    "print(\"S = \", S, \"\\n\")\n",
    "print(\"VT = \\n\", VT, \"\\n\")"
   ]
  },
  {
   "cell_type": "markdown",
   "metadata": {},
   "source": [
    "## Dimension Reduction\n",
    "\n",
    "We project the data onto the first $k$ singular vectors (optionally scaled by the corresponding singular values). This gives us the data in a reduced dimension, but should retain the most important information. "
   ]
  },
  {
   "cell_type": "code",
   "execution_count": 9,
   "metadata": {},
   "outputs": [
    {
     "name": "stdout",
     "output_type": "stream",
     "text": [
      "[[8.96 8.76 -5.47 -5.43 -4.29 -2.52]\n",
      " [-1.32 -0.48 -4.84 -6.30 6.83 6.10]]\n"
     ]
    }
   ],
   "source": [
    "k = 3\n",
    "#Ak = np.diag(S[:k]) @ np.transpose(U[:,:k]) @ A\n",
    "Ak = np.transpose(U[:,:k])  @ A\n",
    "print(Ak)"
   ]
  },
  {
   "cell_type": "markdown",
   "metadata": {},
   "source": [
    "# Using some real data (MovieLens)"
   ]
  },
  {
   "cell_type": "code",
   "execution_count": 10,
   "metadata": {},
   "outputs": [
    {
     "data": {
      "text/html": [
       "<div>\n",
       "<style scoped>\n",
       "    .dataframe tbody tr th:only-of-type {\n",
       "        vertical-align: middle;\n",
       "    }\n",
       "\n",
       "    .dataframe tbody tr th {\n",
       "        vertical-align: top;\n",
       "    }\n",
       "\n",
       "    .dataframe thead th {\n",
       "        text-align: right;\n",
       "    }\n",
       "</style>\n",
       "<table border=\"1\" class=\"dataframe\">\n",
       "  <thead>\n",
       "    <tr style=\"text-align: right;\">\n",
       "      <th></th>\n",
       "      <th>userId</th>\n",
       "      <th>movieId</th>\n",
       "      <th>rating</th>\n",
       "      <th>timestamp</th>\n",
       "    </tr>\n",
       "  </thead>\n",
       "  <tbody>\n",
       "    <tr>\n",
       "      <th>0</th>\n",
       "      <td>1</td>\n",
       "      <td>1</td>\n",
       "      <td>4.0</td>\n",
       "      <td>964982703</td>\n",
       "    </tr>\n",
       "    <tr>\n",
       "      <th>1</th>\n",
       "      <td>1</td>\n",
       "      <td>3</td>\n",
       "      <td>4.0</td>\n",
       "      <td>964981247</td>\n",
       "    </tr>\n",
       "    <tr>\n",
       "      <th>2</th>\n",
       "      <td>1</td>\n",
       "      <td>6</td>\n",
       "      <td>4.0</td>\n",
       "      <td>964982224</td>\n",
       "    </tr>\n",
       "    <tr>\n",
       "      <th>3</th>\n",
       "      <td>1</td>\n",
       "      <td>47</td>\n",
       "      <td>5.0</td>\n",
       "      <td>964983815</td>\n",
       "    </tr>\n",
       "    <tr>\n",
       "      <th>4</th>\n",
       "      <td>1</td>\n",
       "      <td>50</td>\n",
       "      <td>5.0</td>\n",
       "      <td>964982931</td>\n",
       "    </tr>\n",
       "    <tr>\n",
       "      <th>...</th>\n",
       "      <td>...</td>\n",
       "      <td>...</td>\n",
       "      <td>...</td>\n",
       "      <td>...</td>\n",
       "    </tr>\n",
       "    <tr>\n",
       "      <th>100831</th>\n",
       "      <td>610</td>\n",
       "      <td>166534</td>\n",
       "      <td>4.0</td>\n",
       "      <td>1493848402</td>\n",
       "    </tr>\n",
       "    <tr>\n",
       "      <th>100832</th>\n",
       "      <td>610</td>\n",
       "      <td>168248</td>\n",
       "      <td>5.0</td>\n",
       "      <td>1493850091</td>\n",
       "    </tr>\n",
       "    <tr>\n",
       "      <th>100833</th>\n",
       "      <td>610</td>\n",
       "      <td>168250</td>\n",
       "      <td>5.0</td>\n",
       "      <td>1494273047</td>\n",
       "    </tr>\n",
       "    <tr>\n",
       "      <th>100834</th>\n",
       "      <td>610</td>\n",
       "      <td>168252</td>\n",
       "      <td>5.0</td>\n",
       "      <td>1493846352</td>\n",
       "    </tr>\n",
       "    <tr>\n",
       "      <th>100835</th>\n",
       "      <td>610</td>\n",
       "      <td>170875</td>\n",
       "      <td>3.0</td>\n",
       "      <td>1493846415</td>\n",
       "    </tr>\n",
       "  </tbody>\n",
       "</table>\n",
       "<p>100836 rows × 4 columns</p>\n",
       "</div>"
      ],
      "text/plain": [
       "        userId  movieId  rating   timestamp\n",
       "0            1        1     4.0   964982703\n",
       "1            1        3     4.0   964981247\n",
       "2            1        6     4.0   964982224\n",
       "3            1       47     5.0   964983815\n",
       "4            1       50     5.0   964982931\n",
       "...        ...      ...     ...         ...\n",
       "100831     610   166534     4.0  1493848402\n",
       "100832     610   168248     5.0  1493850091\n",
       "100833     610   168250     5.0  1494273047\n",
       "100834     610   168252     5.0  1493846352\n",
       "100835     610   170875     3.0  1493846415\n",
       "\n",
       "[100836 rows x 4 columns]"
      ]
     },
     "execution_count": 10,
     "metadata": {},
     "output_type": "execute_result"
    }
   ],
   "source": [
    "import numpy as np\n",
    "import pandas as pd\n",
    "\n",
    "ratings = pd.read_csv(\"/Users/debapriyo/Onedrive/data/ml-latest-small/ratings.csv\")\n",
    "ratings"
   ]
  },
  {
   "cell_type": "markdown",
   "metadata": {},
   "source": [
    "## Separate some data for testing \n",
    "\n",
    "We will use this data for our experiments. But first, we need to separate some data so that we can test our methods on that. We create a random partition of the indices. "
   ]
  },
  {
   "cell_type": "code",
   "execution_count": 34,
   "metadata": {},
   "outputs": [
    {
     "name": "stdout",
     "output_type": "stream",
     "text": [
      "[18743 33545 67099 ... 29237 66593  6859]\n",
      "[46881 76302 66497 ... 17946 19210 10959]\n"
     ]
    }
   ],
   "source": [
    "# Create the list of indices\n",
    "idx = np.arange(0,len(ratings))\n",
    "\n",
    "# Randomly shuffle them\n",
    "np.random.shuffle(idx)\n",
    "\n",
    "# Size of test data\n",
    "testsize = 5000\n",
    "testidx = idx[0:testsize]\n",
    "trainidx = idx[testsize:]\n",
    "print(testidx)\n",
    "print(trainidx)"
   ]
  },
  {
   "cell_type": "markdown",
   "metadata": {},
   "source": [
    "Now, we partition the dataframe using the two sets of indices. "
   ]
  },
  {
   "cell_type": "code",
   "execution_count": 35,
   "metadata": {},
   "outputs": [
    {
     "data": {
      "text/html": [
       "<div>\n",
       "<style scoped>\n",
       "    .dataframe tbody tr th:only-of-type {\n",
       "        vertical-align: middle;\n",
       "    }\n",
       "\n",
       "    .dataframe tbody tr th {\n",
       "        vertical-align: top;\n",
       "    }\n",
       "\n",
       "    .dataframe thead th {\n",
       "        text-align: right;\n",
       "    }\n",
       "</style>\n",
       "<table border=\"1\" class=\"dataframe\">\n",
       "  <thead>\n",
       "    <tr style=\"text-align: right;\">\n",
       "      <th></th>\n",
       "      <th>userId</th>\n",
       "      <th>movieId</th>\n",
       "      <th>rating</th>\n",
       "      <th>timestamp</th>\n",
       "    </tr>\n",
       "  </thead>\n",
       "  <tbody>\n",
       "    <tr>\n",
       "      <th>18743</th>\n",
       "      <td>119</td>\n",
       "      <td>141004</td>\n",
       "      <td>4.5</td>\n",
       "      <td>1505072481</td>\n",
       "    </tr>\n",
       "    <tr>\n",
       "      <th>33545</th>\n",
       "      <td>226</td>\n",
       "      <td>56174</td>\n",
       "      <td>4.0</td>\n",
       "      <td>1199115755</td>\n",
       "    </tr>\n",
       "    <tr>\n",
       "      <th>67099</th>\n",
       "      <td>434</td>\n",
       "      <td>293</td>\n",
       "      <td>4.5</td>\n",
       "      <td>1270603658</td>\n",
       "    </tr>\n",
       "    <tr>\n",
       "      <th>54758</th>\n",
       "      <td>362</td>\n",
       "      <td>431</td>\n",
       "      <td>4.0</td>\n",
       "      <td>1530638163</td>\n",
       "    </tr>\n",
       "    <tr>\n",
       "      <th>46011</th>\n",
       "      <td>305</td>\n",
       "      <td>1136</td>\n",
       "      <td>2.5</td>\n",
       "      <td>1463437043</td>\n",
       "    </tr>\n",
       "    <tr>\n",
       "      <th>...</th>\n",
       "      <td>...</td>\n",
       "      <td>...</td>\n",
       "      <td>...</td>\n",
       "      <td>...</td>\n",
       "    </tr>\n",
       "    <tr>\n",
       "      <th>72869</th>\n",
       "      <td>469</td>\n",
       "      <td>3398</td>\n",
       "      <td>3.0</td>\n",
       "      <td>965425863</td>\n",
       "    </tr>\n",
       "    <tr>\n",
       "      <th>8342</th>\n",
       "      <td>57</td>\n",
       "      <td>2108</td>\n",
       "      <td>3.0</td>\n",
       "      <td>965797154</td>\n",
       "    </tr>\n",
       "    <tr>\n",
       "      <th>29237</th>\n",
       "      <td>200</td>\n",
       "      <td>50442</td>\n",
       "      <td>2.0</td>\n",
       "      <td>1229877311</td>\n",
       "    </tr>\n",
       "    <tr>\n",
       "      <th>66593</th>\n",
       "      <td>428</td>\n",
       "      <td>4896</td>\n",
       "      <td>3.0</td>\n",
       "      <td>1111524229</td>\n",
       "    </tr>\n",
       "    <tr>\n",
       "      <th>6859</th>\n",
       "      <td>45</td>\n",
       "      <td>8528</td>\n",
       "      <td>5.0</td>\n",
       "      <td>1091305555</td>\n",
       "    </tr>\n",
       "  </tbody>\n",
       "</table>\n",
       "<p>5000 rows × 4 columns</p>\n",
       "</div>"
      ],
      "text/plain": [
       "       userId  movieId  rating   timestamp\n",
       "18743     119   141004     4.5  1505072481\n",
       "33545     226    56174     4.0  1199115755\n",
       "67099     434      293     4.5  1270603658\n",
       "54758     362      431     4.0  1530638163\n",
       "46011     305     1136     2.5  1463437043\n",
       "...       ...      ...     ...         ...\n",
       "72869     469     3398     3.0   965425863\n",
       "8342       57     2108     3.0   965797154\n",
       "29237     200    50442     2.0  1229877311\n",
       "66593     428     4896     3.0  1111524229\n",
       "6859       45     8528     5.0  1091305555\n",
       "\n",
       "[5000 rows x 4 columns]"
      ]
     },
     "execution_count": 35,
     "metadata": {},
     "output_type": "execute_result"
    }
   ],
   "source": [
    "# The sample for testing\n",
    "ratings_test = ratings.iloc[testidx]\n",
    "ratings_test"
   ]
  },
  {
   "cell_type": "code",
   "execution_count": 36,
   "metadata": {},
   "outputs": [
    {
     "data": {
      "text/html": [
       "<div>\n",
       "<style scoped>\n",
       "    .dataframe tbody tr th:only-of-type {\n",
       "        vertical-align: middle;\n",
       "    }\n",
       "\n",
       "    .dataframe tbody tr th {\n",
       "        vertical-align: top;\n",
       "    }\n",
       "\n",
       "    .dataframe thead th {\n",
       "        text-align: right;\n",
       "    }\n",
       "</style>\n",
       "<table border=\"1\" class=\"dataframe\">\n",
       "  <thead>\n",
       "    <tr style=\"text-align: right;\">\n",
       "      <th></th>\n",
       "      <th>userId</th>\n",
       "      <th>movieId</th>\n",
       "      <th>rating</th>\n",
       "      <th>timestamp</th>\n",
       "    </tr>\n",
       "  </thead>\n",
       "  <tbody>\n",
       "    <tr>\n",
       "      <th>46881</th>\n",
       "      <td>307</td>\n",
       "      <td>924</td>\n",
       "      <td>3.5</td>\n",
       "      <td>1186084299</td>\n",
       "    </tr>\n",
       "    <tr>\n",
       "      <th>76302</th>\n",
       "      <td>480</td>\n",
       "      <td>466</td>\n",
       "      <td>0.5</td>\n",
       "      <td>1179178797</td>\n",
       "    </tr>\n",
       "    <tr>\n",
       "      <th>66497</th>\n",
       "      <td>428</td>\n",
       "      <td>2428</td>\n",
       "      <td>2.0</td>\n",
       "      <td>1111524741</td>\n",
       "    </tr>\n",
       "    <tr>\n",
       "      <th>51997</th>\n",
       "      <td>338</td>\n",
       "      <td>183897</td>\n",
       "      <td>1.5</td>\n",
       "      <td>1530148463</td>\n",
       "    </tr>\n",
       "    <tr>\n",
       "      <th>56534</th>\n",
       "      <td>376</td>\n",
       "      <td>110</td>\n",
       "      <td>3.5</td>\n",
       "      <td>1364993995</td>\n",
       "    </tr>\n",
       "    <tr>\n",
       "      <th>...</th>\n",
       "      <td>...</td>\n",
       "      <td>...</td>\n",
       "      <td>...</td>\n",
       "      <td>...</td>\n",
       "    </tr>\n",
       "    <tr>\n",
       "      <th>32317</th>\n",
       "      <td>221</td>\n",
       "      <td>1080</td>\n",
       "      <td>4.5</td>\n",
       "      <td>1111178181</td>\n",
       "    </tr>\n",
       "    <tr>\n",
       "      <th>22028</th>\n",
       "      <td>144</td>\n",
       "      <td>1036</td>\n",
       "      <td>3.5</td>\n",
       "      <td>1137323713</td>\n",
       "    </tr>\n",
       "    <tr>\n",
       "      <th>17946</th>\n",
       "      <td>112</td>\n",
       "      <td>1198</td>\n",
       "      <td>5.0</td>\n",
       "      <td>1442535778</td>\n",
       "    </tr>\n",
       "    <tr>\n",
       "      <th>19210</th>\n",
       "      <td>124</td>\n",
       "      <td>2683</td>\n",
       "      <td>4.0</td>\n",
       "      <td>1336409883</td>\n",
       "    </tr>\n",
       "    <tr>\n",
       "      <th>10959</th>\n",
       "      <td>68</td>\n",
       "      <td>4022</td>\n",
       "      <td>2.0</td>\n",
       "      <td>1158531783</td>\n",
       "    </tr>\n",
       "  </tbody>\n",
       "</table>\n",
       "<p>95836 rows × 4 columns</p>\n",
       "</div>"
      ],
      "text/plain": [
       "       userId  movieId  rating   timestamp\n",
       "46881     307      924     3.5  1186084299\n",
       "76302     480      466     0.5  1179178797\n",
       "66497     428     2428     2.0  1111524741\n",
       "51997     338   183897     1.5  1530148463\n",
       "56534     376      110     3.5  1364993995\n",
       "...       ...      ...     ...         ...\n",
       "32317     221     1080     4.5  1111178181\n",
       "22028     144     1036     3.5  1137323713\n",
       "17946     112     1198     5.0  1442535778\n",
       "19210     124     2683     4.0  1336409883\n",
       "10959      68     4022     2.0  1158531783\n",
       "\n",
       "[95836 rows x 4 columns]"
      ]
     },
     "execution_count": 36,
     "metadata": {},
     "output_type": "execute_result"
    }
   ],
   "source": [
    "# The rest of the data\n",
    "ratings = ratings.iloc[trainidx]\n",
    "ratings"
   ]
  },
  {
   "cell_type": "markdown",
   "metadata": {},
   "source": [
    "## Creating the ratings matrix from the data\n",
    "\n",
    "Instead of a 2-D array, we will create a sparse matrix first. We will use the rows as the items and columns as the users. However, we will have to make this matrix dense for some reasons. "
   ]
  },
  {
   "cell_type": "code",
   "execution_count": 37,
   "metadata": {},
   "outputs": [
    {
     "name": "stdout",
     "output_type": "stream",
     "text": [
      "The data has 193609 items with 610 dimensions (users).\n"
     ]
    }
   ],
   "source": [
    "from scipy.sparse import csr_matrix\n",
    "\n",
    "users = ratings[\"userId\"].values.astype(int)\n",
    "movies = ratings[\"movieId\"].values.astype(int)\n",
    "vals = ratings[\"rating\"].values\n",
    "\n",
    "RS = csr_matrix((vals,(users-1,movies-1)))\n",
    "\n",
    "print(\"The data has %d items with %d dimensions (users).\" %(RS.shape[1], RS.shape[0]))"
   ]
  },
  {
   "cell_type": "code",
   "execution_count": 38,
   "metadata": {},
   "outputs": [
    {
     "name": "stdout",
     "output_type": "stream",
     "text": [
      "[[4.00 0.00 4.00 ... 0.00 0.00 0.00]\n",
      " [0.00 0.00 0.00 ... 0.00 0.00 0.00]\n",
      " [0.00 0.00 0.00 ... 0.00 0.00 0.00]\n",
      " ...\n",
      " [2.50 2.00 2.00 ... 0.00 0.00 0.00]\n",
      " [3.00 0.00 0.00 ... 0.00 0.00 0.00]\n",
      " [5.00 0.00 0.00 ... 0.00 0.00 0.00]]\n"
     ]
    }
   ],
   "source": [
    "# Converting it to a dense matrix\n",
    "R = RS.todense()\n",
    "\n",
    "print(R)"
   ]
  },
  {
   "cell_type": "markdown",
   "metadata": {},
   "source": [
    "## Fill the zero entries with average ratings \n",
    "\n",
    "The zero entries in this matrix are those for which the corresponding user has not rated the movie. In other words, those ratings are not zero, rather unknown. To start with, we fill the zero entries by the average ratings obtained by the movies (from users who have rated that movie). "
   ]
  },
  {
   "cell_type": "code",
   "execution_count": 39,
   "metadata": {},
   "outputs": [],
   "source": [
    "def colmeans(R):\n",
    "    # Sum of the ratings for each movie\n",
    "    sums = np.sum(R, axis=0)\n",
    "    #print(sums.shape)\n",
    "\n",
    "    # Number of non-zero entries for each movie (number of ratings)\n",
    "    nzcounts = np.sum(R.astype(bool), axis=0) + 1\n",
    "    #print(nzcounts.shape)\n",
    "\n",
    "    # The average ratings for each movie\n",
    "    means = sums/nzcounts\n",
    "    #print(means.shape)\n",
    "    \n",
    "    return means"
   ]
  },
  {
   "cell_type": "code",
   "execution_count": 40,
   "metadata": {},
   "outputs": [
    {
     "name": "stdout",
     "output_type": "stream",
     "text": [
      "(1, 193609)\n",
      "184076\n"
     ]
    }
   ],
   "source": [
    "means = colmeans(R)\n",
    "print(means.shape)\n",
    "\n",
    "count = 0\n",
    "for i in range(means.shape[1]):\n",
    "    if (means[0,i]==0):\n",
    "        count = count + 1\n",
    "print(count)"
   ]
  },
  {
   "cell_type": "markdown",
   "metadata": {},
   "source": [
    "### Adding the mean vector (mean rating of each movie) to each column\n",
    "\n",
    "Instead of running through loops, we will use masking. We create a Boolean matrix zero_R such that an entry of zero_R is True if and only if the corresponding entry of R is zero. "
   ]
  },
  {
   "cell_type": "code",
   "execution_count": 41,
   "metadata": {},
   "outputs": [
    {
     "name": "stdout",
     "output_type": "stream",
     "text": [
      "[[1 2 3 4]\n",
      " [0 1 0 2]]\n",
      "(2, 4)\n",
      "[[False False False False]\n",
      " [ True False  True False]]\n"
     ]
    }
   ],
   "source": [
    "# Demo on masking\n",
    "\n",
    "M = np.array([[1,2,3,4],[0,1,0,2]])\n",
    "print(M)\n",
    "print(M.shape)\n",
    "\n",
    "zero_M = M==0\n",
    "print(zero_M)\n",
    "\n",
    "# Ref. testing for RMSE_code \n",
    "#M_selected = M[[0,1],[2,3]]\n",
    "#print(M_selected)"
   ]
  },
  {
   "cell_type": "code",
   "execution_count": 42,
   "metadata": {},
   "outputs": [
    {
     "name": "stdout",
     "output_type": "stream",
     "text": [
      "(610, 193609)\n",
      "[[False  True False ...  True  True  True]\n",
      " [ True  True  True ...  True  True  True]\n",
      " [ True  True  True ...  True  True  True]\n",
      " ...\n",
      " [False False False ...  True  True  True]\n",
      " [False  True  True ...  True  True  True]\n",
      " [False  True  True ...  True  True  True]]\n"
     ]
    }
   ],
   "source": [
    "# The boolean matrix (True/False entries) w\n",
    "\n",
    "zero_R = R==0\n",
    "print(zero_R.shape)\n",
    "print(zero_R)"
   ]
  },
  {
   "cell_type": "markdown",
   "metadata": {},
   "source": [
    "Next, we multiply (element wise) zero_R to the broadcasted mean vector to get a matrix where an entry is zero if the corresponding entry in R was non zero, and an entry is the mean rating if the corresponding entry in R was zero (not rated)."
   ]
  },
  {
   "cell_type": "code",
   "execution_count": 43,
   "metadata": {},
   "outputs": [
    {
     "name": "stdout",
     "output_type": "stream",
     "text": [
      "(610, 193609)\n",
      "[[0.00 3.40 0.00 ... 0.00 0.00 2.00]\n",
      " [3.90 3.40 3.24 ... 0.00 0.00 2.00]\n",
      " [3.90 3.40 3.24 ... 0.00 0.00 2.00]\n",
      " ...\n",
      " [0.00 0.00 0.00 ... 0.00 0.00 2.00]\n",
      " [0.00 3.40 3.24 ... 0.00 0.00 2.00]\n",
      " [0.00 3.40 3.24 ... 0.00 0.00 2.00]]\n"
     ]
    }
   ],
   "source": [
    "unrated_R = np.multiply(means, zero_R)\n",
    "print(unrated_R.shape)\n",
    "print(unrated_R)"
   ]
  },
  {
   "cell_type": "markdown",
   "metadata": {},
   "source": [
    "Now, we add the unrated part of R with original R. "
   ]
  },
  {
   "cell_type": "code",
   "execution_count": 44,
   "metadata": {},
   "outputs": [
    {
     "name": "stdout",
     "output_type": "stream",
     "text": [
      "[[4.00 3.40 4.00 ... 0.00 0.00 2.00]\n",
      " [3.90 3.40 3.24 ... 0.00 0.00 2.00]\n",
      " [3.90 3.40 3.24 ... 0.00 0.00 2.00]\n",
      " ...\n",
      " [2.50 2.00 2.00 ... 0.00 0.00 2.00]\n",
      " [3.00 3.40 3.24 ... 0.00 0.00 2.00]\n",
      " [5.00 3.40 3.24 ... 0.00 0.00 2.00]]\n"
     ]
    }
   ],
   "source": [
    "R1 = R + unrated_R\n",
    "\n",
    "print(R1)"
   ]
  },
  {
   "cell_type": "markdown",
   "metadata": {},
   "source": [
    "## A naive prediction of ratings by average ratings\n",
    "\n",
    "The matrix R1 is already a naive prediction of the ratings. Let us test how good that is. First, we convert our test data (ratings which are known but were separated in the beginning) into a sparse matrix."
   ]
  },
  {
   "cell_type": "code",
   "execution_count": 45,
   "metadata": {},
   "outputs": [
    {
     "name": "stdout",
     "output_type": "stream",
     "text": [
      "[119 226 434 ... 200 428  45]\n",
      "[141004  56174    293 ...  50442   4896   8528]\n",
      "[4.50 4.00 4.50 ... 2.00 3.00 5.00]\n"
     ]
    }
   ],
   "source": [
    "users_test = ratings_test[\"userId\"].values.astype(int)\n",
    "movies_test = ratings_test[\"movieId\"].values.astype(int)\n",
    "vals_test = ratings_test[\"rating\"].values\n",
    "\n",
    "print(users_test)\n",
    "print(movies_test)\n",
    "print(vals_test)"
   ]
  },
  {
   "cell_type": "markdown",
   "metadata": {},
   "source": [
    "We write a function to compute Root Mean Squared Error (RMSE) for any matrix with same dimensions as R against the test data."
   ]
  },
  {
   "cell_type": "code",
   "execution_count": 53,
   "metadata": {},
   "outputs": [],
   "source": [
    "def RMSE_ratings(R_pred, users_test, movies_test, vals_test):\n",
    "    R_pred_selected = R_pred[users_test-1,movies_test-1]\n",
    "    #print(R_pred_selected.shape)\n",
    "    error = R_pred_selected - vals_test\n",
    "    #print(R_pred_selected)\n",
    "    #print(vals_test)\n",
    "    #print(error)\n",
    "    return np.sqrt(np.mean(np.multiply(error,error)))"
   ]
  },
  {
   "cell_type": "markdown",
   "metadata": {},
   "source": [
    "And we test the RMSE with the matrix R1."
   ]
  },
  {
   "cell_type": "code",
   "execution_count": 47,
   "metadata": {},
   "outputs": [
    {
     "name": "stdout",
     "output_type": "stream",
     "text": [
      "[[1.00 3.39 3.99 ... 2.88 3.74 3.42]]\n",
      "[4.50 4.00 4.50 ... 2.00 3.00 5.00]\n",
      "1.2187226604170796\n"
     ]
    }
   ],
   "source": [
    "print(RMSE_ratings(R1, users_test, movies_test, vals_test))"
   ]
  },
  {
   "cell_type": "markdown",
   "metadata": {},
   "source": [
    "## Back to SVD: Center the data (R1)\n",
    "\n",
    "We center the data by making the mean of all columns zero. "
   ]
  },
  {
   "cell_type": "code",
   "execution_count": 48,
   "metadata": {},
   "outputs": [],
   "source": [
    "def centerrows(R1):\n",
    "    # Center the columns (users)\n",
    "    means = np.mean(R1, axis=1)\n",
    "    #print(means)\n",
    "    print(R1.shape)\n",
    "    print(means.shape)\n",
    "    return R1 - means"
   ]
  },
  {
   "cell_type": "code",
   "execution_count": 49,
   "metadata": {},
   "outputs": [
    {
     "name": "stdout",
     "output_type": "stream",
     "text": [
      "(610, 193609)\n",
      "(610, 1)\n",
      "[[3.88 3.29 3.88 ... -0.12 -0.12 1.88]\n",
      " [3.78 3.29 3.12 ... -0.12 -0.12 1.88]\n",
      " [3.78 3.29 3.12 ... -0.12 -0.12 1.88]\n",
      " ...\n",
      " [2.38 1.88 1.88 ... -0.12 -0.12 1.88]\n",
      " [2.88 3.29 3.12 ... -0.12 -0.12 1.88]\n",
      " [4.88 3.28 3.12 ... -0.12 -0.12 1.88]]\n"
     ]
    }
   ],
   "source": [
    "R2 = centerrows(R1)\n",
    "print(R2)"
   ]
  },
  {
   "cell_type": "markdown",
   "metadata": {},
   "source": [
    "## SVD \n",
    "\n",
    "Let us compute the SVD of the matrix now. "
   ]
  },
  {
   "cell_type": "code",
   "execution_count": 50,
   "metadata": {},
   "outputs": [
    {
     "name": "stdout",
     "output_type": "stream",
     "text": [
      "(610, 610) (610,) (610, 193609)\n"
     ]
    }
   ],
   "source": [
    "U, S, VT = np.linalg.svd(R2, full_matrices=False)\n",
    "\n",
    "print(U.shape, S.shape, VT.shape)"
   ]
  },
  {
   "cell_type": "markdown",
   "metadata": {},
   "source": [
    "# The low rank approximation\n",
    "\n",
    "The low rank approximation is defined by $R_k = U_k S_k V_k^T$. The dimensions will remain the same as before. "
   ]
  },
  {
   "cell_type": "code",
   "execution_count": 51,
   "metadata": {},
   "outputs": [],
   "source": [
    "def lowrank(U,S,VT,k):\n",
    "    # Let us fix k\n",
    "\n",
    "    Uk = U[:,:k]\n",
    "    #print(Uk.shape)\n",
    "\n",
    "    Sk = np.diag(S[:k])\n",
    "    #print(Sk.shape)\n",
    "\n",
    "    Vk = VT[:k,:]\n",
    "    #print(Vk.shape)\n",
    "\n",
    "    return Uk @ Sk @ Vk"
   ]
  },
  {
   "cell_type": "markdown",
   "metadata": {},
   "source": [
    "## Moving back the columns from the center\n",
    "\n",
    "Now we need to add the mean of the columns back."
   ]
  },
  {
   "cell_type": "code",
   "execution_count": 54,
   "metadata": {},
   "outputs": [
    {
     "name": "stdout",
     "output_type": "stream",
     "text": [
      "k =  5 , RMSE:  1.197982934748688\n",
      "k =  10 , RMSE:  1.193518417676437\n",
      "k =  20 , RMSE:  1.1947973621858419\n",
      "k =  30 , RMSE:  1.1937472037132963\n",
      "k =  50 , RMSE:  1.1959170215363482\n"
     ]
    }
   ],
   "source": [
    "k_range = np.array([5,10,20,30,50])\n",
    "rmse = np.zeros(len(k_range))\n",
    "\n",
    "for k in k_range:\n",
    "    Rk1 = lowrank(U,S,VT,k) + R1 - R2\n",
    "    #print(Rk1.shape)\n",
    "    #print(Rk1[381,256])\n",
    "    rmse = RMSE_ratings(Rk1, users_test, movies_test, vals_test)\n",
    "    print(\"k = \", k, \", RMSE: \", rmse)"
   ]
  },
  {
   "cell_type": "code",
   "execution_count": null,
   "metadata": {},
   "outputs": [],
   "source": []
  }
 ],
 "metadata": {
  "kernelspec": {
   "display_name": "Python 3 (ipykernel)",
   "language": "python",
   "name": "python3"
  },
  "language_info": {
   "codemirror_mode": {
    "name": "ipython",
    "version": 3
   },
   "file_extension": ".py",
   "mimetype": "text/x-python",
   "name": "python",
   "nbconvert_exporter": "python",
   "pygments_lexer": "ipython3",
   "version": "3.9.6"
  }
 },
 "nbformat": 4,
 "nbformat_minor": 4
}
